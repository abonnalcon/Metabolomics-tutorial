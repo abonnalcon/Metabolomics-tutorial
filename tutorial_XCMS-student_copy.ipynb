{
 "cells": [
  {
   "cell_type": "markdown",
   "metadata": {},
   "source": [
    "<div style=\"background-color:rgb(255, 250, 250); padding:5px; padding-left: 1em; padding-right: 1em;\">\n",
    "\n",
    "<h1 id=\"tutorial1\" style=\"text-align: justify\">LC-MS Metabolomics Data Processing</h1>\n",
    "<p style=\"text-align: justify\">\n",
    "</div>\n",
    "<p style=\"text-align: justify\">The study used in this tutorial has been previously published as an open access article <a href=\"https://www.pnas.org/content/113/16/4252\">Chaleckis et al. (2016)</a>, \n",
    "in PNAS, and the datasets are available on MetaboLights under the ID <a href=\"https://www.ebi.ac.uk/metabolights/MTBLS265/descriptors\">MTBLS265</a>.</p>\n",
    "</div></div>\n",
    "\n",
    "\n",
    "<ul>\n",
    "\n",
    "### Summary\n",
    "\n",
    "<li style=\"text-align: justify\">Peaks detection</li>\n",
    "\n",
    "<li style=\"text-align: justify\">Peaks grouping</li>\n",
    "\n",
    "<li style=\"text-align: justify\">Peaks alignment</li>\n",
    "\n",
    "<li style=\"text-align: justify\">Filling missing features</li>\n",
    "\n",
    "<li style=\"text-align: justify\">Peak visualisation and metabolites annotation</li>\n",
    "\n",
    "<ul>\n",
    "\n",
    "<p style=\"text-align: justify\">The data processing in this tutorial is done using <a href=\"https://www.bioconductor.org/packages/release/bioc/html/xcms.html\">the XCMS package</a>, \n",
    "more information on the XCMS package is available in the paper by <a href=\"https://pubs.acs.org/doi/10.1021/ac051437y\">Smith et al. (2006)</a>, an online version of XCMS is also available: <a href=\"https://xcmsonline.scripps.edu/landing_page.php?pgcontent=mainPage\">XCMS Online</a>.</p>\n",
    "</div></div>\n",
    "\n",
    "<p style=\"text-align: justify\">This notebook is based on the R language, multiple libraries such as XCMS, mzR, msdata are available via <a href=\"https://www.bioconductor.org/\">Bioconductor</a> <br>\n",
    "</p>"
   ]
  },
  {
   "cell_type": "code",
   "execution_count": 2,
   "metadata": {},
   "outputs": [
    {
     "name": "stderr",
     "output_type": "stream",
     "text": [
      "Loading required package: Biobase\n",
      "\n",
      "Loading required package: BiocGenerics\n",
      "\n",
      "Loading required package: parallel\n",
      "\n",
      "\n",
      "Attaching package: 'BiocGenerics'\n",
      "\n",
      "\n",
      "The following objects are masked from 'package:parallel':\n",
      "\n",
      "    clusterApply, clusterApplyLB, clusterCall, clusterEvalQ,\n",
      "    clusterExport, clusterMap, parApply, parCapply, parLapply,\n",
      "    parLapplyLB, parRapply, parSapply, parSapplyLB\n",
      "\n",
      "\n",
      "The following objects are masked from 'package:stats':\n",
      "\n",
      "    IQR, mad, sd, var, xtabs\n",
      "\n",
      "\n",
      "The following objects are masked from 'package:base':\n",
      "\n",
      "    anyDuplicated, append, as.data.frame, basename, cbind, colnames,\n",
      "    dirname, do.call, duplicated, eval, evalq, Filter, Find, get, grep,\n",
      "    grepl, intersect, is.unsorted, lapply, Map, mapply, match, mget,\n",
      "    order, paste, pmax, pmax.int, pmin, pmin.int, Position, rank,\n",
      "    rbind, Reduce, rownames, sapply, setdiff, sort, table, tapply,\n",
      "    union, unique, unsplit, which, which.max, which.min\n",
      "\n",
      "\n",
      "Welcome to Bioconductor\n",
      "\n",
      "    Vignettes contain introductory material; view with\n",
      "    'browseVignettes()'. To cite Bioconductor, see\n",
      "    'citation(\"Biobase\")', and for packages 'citation(\"pkgname\")'.\n",
      "\n",
      "\n",
      "Loading required package: BiocParallel\n",
      "\n",
      "Loading required package: MSnbase\n",
      "\n",
      "Loading required package: mzR\n",
      "\n",
      "Loading required package: Rcpp\n",
      "\n",
      "Warning message in fun(libname, pkgname):\n",
      "\"mzR has been built against a different Rcpp version (1.0.2)\n",
      "than is installed on your system (1.0.5). This might lead to errors\n",
      "when loading mzR. If you encounter such issues, please send a report,\n",
      "including the output of sessionInfo() to the Bioc support forum at \n",
      "https://support.bioconductor.org/. For details see also\n",
      "https://github.com/sneumann/mzR/wiki/mzR-Rcpp-compiler-linker-issue.\"\n",
      "Loading required package: S4Vectors\n",
      "\n",
      "Loading required package: stats4\n",
      "\n",
      "\n",
      "Attaching package: 'S4Vectors'\n",
      "\n",
      "\n",
      "The following object is masked from 'package:base':\n",
      "\n",
      "    expand.grid\n",
      "\n",
      "\n",
      "Loading required package: ProtGenerics\n",
      "\n",
      "\n",
      "Attaching package: 'ProtGenerics'\n",
      "\n",
      "\n",
      "The following object is masked from 'package:stats':\n",
      "\n",
      "    smooth\n",
      "\n",
      "\n",
      "\n",
      "This is MSnbase version 2.12.0 \n",
      "  Visit https://lgatto.github.io/MSnbase/ to get started.\n",
      "\n",
      "\n",
      "\n",
      "Attaching package: 'MSnbase'\n",
      "\n",
      "\n",
      "The following object is masked from 'package:base':\n",
      "\n",
      "    trimws\n",
      "\n",
      "\n",
      "\n",
      "This is xcms version 3.8.2 \n",
      "\n",
      "\n",
      "\n",
      "Attaching package: 'xcms'\n",
      "\n",
      "\n",
      "The following object is masked from 'package:stats':\n",
      "\n",
      "    sigma\n",
      "\n",
      "\n"
     ]
    },
    {
     "ename": "ERROR",
     "evalue": "Error in library(SummarizedExperiment): there is no package called 'SummarizedExperiment'\n",
     "output_type": "error",
     "traceback": [
      "Error in library(SummarizedExperiment): there is no package called 'SummarizedExperiment'\nTraceback:\n",
      "1. library(SummarizedExperiment)"
     ]
    }
   ],
   "source": [
    "#Import the libraries needed for the data processing\n",
    "library(xcms)\n",
    "library(msdata)\n",
    "library(multtest)\n",
    "library(mzR)\n",
    "library(RColorBrewer)\n",
    "library(pander)\n",
    "library(magrittr)\n",
    "library(pheatmap)\n",
    "library(BiocGenerics)\n",
    "library(Biobase)\n",
    "library(parallel)\n",
    "library(stats)\n",
    "library(SummarizedExperiment)\n",
    "library(scales)"
   ]
  },
  {
   "cell_type": "code",
   "execution_count": 3,
   "metadata": {},
   "outputs": [],
   "source": [
    "# Import dataset files location (where to find the MS files in mzML format)\n",
    "    # Here using MTBLS265: Individual variability in human blood metabolites identifies age-related differences (30 persons, whole blood data).\n",
    "files = list.files(\"A:/IARC/Data/MTBLS265/sample\", recursive = TRUE, full.names = TRUE)"
   ]
  },
  {
   "cell_type": "markdown",
   "metadata": {},
   "source": [
    "## Peak detection"
   ]
  },
  {
   "cell_type": "code",
   "execution_count": 4,
   "metadata": {},
   "outputs": [
    {
     "name": "stderr",
     "output_type": "stream",
     "text": [
      "Loading required package: xcms\n",
      "Loading required package: Biobase\n",
      "Loading required package: BiocGenerics\n",
      "Loading required package: parallel\n",
      "\n",
      "Attaching package: 'BiocGenerics'\n",
      "\n",
      "The following objects are masked from 'package:parallel':\n",
      "\n",
      "    clusterApply, clusterApplyLB, clusterCall, clusterEvalQ,\n",
      "    clusterExport, clusterMap, parApply, parCapply, parLapply,\n",
      "    parLapplyLB, parRapply, parSapply, parSapplyLB\n",
      "\n",
      "The following objects are masked from 'package:stats':\n",
      "\n",
      "    IQR, mad, sd, var, xtabs\n",
      "\n",
      "The following objects are masked from 'package:base':\n",
      "\n",
      "    anyDuplicated, append, as.data.frame, basename, cbind, colnames,\n",
      "    dirname, do.call, duplicated, eval, evalq, Filter, Find, get, grep,\n",
      "    grepl, intersect, is.unsorted, lapply, Map, mapply, match, mget,\n",
      "    order, paste, pmax, pmax.int, pmin, pmin.int, Position, rank,\n",
      "    rbind, Reduce, rownames, sapply, setdiff, sort, table, tapply,\n",
      "    union, unique, unsplit, which, which.max, which.min\n",
      "\n",
      "Welcome to Bioconductor\n",
      "\n",
      "    Vignettes contain introductory material; view with\n",
      "    'browseVignettes()'. To cite Bioconductor, see\n",
      "    'citation(\"Biobase\")', and for packages 'citation(\"pkgname\")'.\n",
      "\n",
      "Loading required package: BiocParallel\n",
      "Loading required package: MSnbase\n",
      "Loading required package: mzR\n",
      "Loading required package: Rcpp\n",
      "Loading required package: S4Vectors\n",
      "Loading required package: stats4\n",
      "\n",
      "Attaching package: 'S4Vectors'\n",
      "\n",
      "The following object is masked from 'package:base':\n",
      "\n",
      "    expand.grid\n",
      "\n",
      "Loading required package: ProtGenerics\n",
      "\n",
      "Attaching package: 'ProtGenerics'\n",
      "\n",
      "The following object is masked from 'package:stats':\n",
      "\n",
      "    smooth\n",
      "\n",
      "\n",
      "This is MSnbase version 2.12.0 \n",
      "  Visit https://lgatto.github.io/MSnbase/ to get started.\n",
      "\n",
      "\n",
      "Attaching package: 'MSnbase'\n",
      "\n",
      "The following object is masked from 'package:base':\n",
      "\n",
      "    trimws\n",
      "\n",
      "\n",
      "This is xcms version 3.8.2 \n",
      "\n",
      "\n",
      "Attaching package: 'xcms'\n",
      "\n",
      "The following object is masked from 'package:stats':\n",
      "\n",
      "    sigma\n",
      "\n",
      "\n",
      "Loading required package: xcms\n",
      "Loading required package: Biobase\n",
      "Loading required package: BiocGenerics\n",
      "Loading required package: parallel\n",
      "\n",
      "Attaching package: 'BiocGenerics'\n",
      "\n",
      "The following objects are masked from 'package:parallel':\n",
      "\n",
      "    clusterApply, clusterApplyLB, clusterCall, clusterEvalQ,\n",
      "    clusterExport, clusterMap, parApply, parCapply, parLapply,\n",
      "    parLapplyLB, parRapply, parSapply, parSapplyLB\n",
      "\n",
      "The following objects are masked from 'package:stats':\n",
      "\n",
      "    IQR, mad, sd, var, xtabs\n",
      "\n",
      "The following objects are masked from 'package:base':\n",
      "\n",
      "    anyDuplicated, append, as.data.frame, basename, cbind, colnames,\n",
      "    dirname, do.call, duplicated, eval, evalq, Filter, Find, get, grep,\n",
      "    grepl, intersect, is.unsorted, lapply, Map, mapply, match, mget,\n",
      "    order, paste, pmax, pmax.int, pmin, pmin.int, Position, rank,\n",
      "    rbind, Reduce, rownames, sapply, setdiff, sort, table, tapply,\n",
      "    union, unique, unsplit, which, which.max, which.min\n",
      "\n",
      "Welcome to Bioconductor\n",
      "\n",
      "    Vignettes contain introductory material; view with\n",
      "    'browseVignettes()'. To cite Bioconductor, see\n",
      "    'citation(\"Biobase\")', and for packages 'citation(\"pkgname\")'.\n",
      "\n",
      "Loading required package: BiocParallel\n",
      "Loading required package: MSnbase\n",
      "Loading required package: mzR\n",
      "Loading required package: Rcpp\n",
      "Loading required package: S4Vectors\n",
      "Loading required package: stats4\n",
      "\n",
      "Attaching package: 'S4Vectors'\n",
      "\n",
      "The following object is masked from 'package:base':\n",
      "\n",
      "    expand.grid\n",
      "\n",
      "Loading required package: ProtGenerics\n",
      "\n",
      "Attaching package: 'ProtGenerics'\n",
      "\n",
      "The following object is masked from 'package:stats':\n",
      "\n",
      "    smooth\n",
      "\n",
      "\n",
      "This is MSnbase version 2.12.0 \n",
      "  Visit https://lgatto.github.io/MSnbase/ to get started.\n",
      "\n",
      "\n",
      "Attaching package: 'MSnbase'\n",
      "\n",
      "The following object is masked from 'package:base':\n",
      "\n",
      "    trimws\n",
      "\n",
      "\n",
      "This is xcms version 3.8.2 \n",
      "\n",
      "\n",
      "Attaching package: 'xcms'\n",
      "\n",
      "The following object is masked from 'package:stats':\n",
      "\n",
      "    sigma\n",
      "\n",
      "\n"
     ]
    }
   ],
   "source": [
    "# Construction of an xcmsSet object v1\n",
    "    # DESCRIPTION: Find peaks in batch mode and pre-sorts files from subdirectories into different classes for grouping\n",
    "    # METHOD: MatchedFilter methods to find peaks in the extracted chromatographic time domain of the profile matrix\n",
    "xset = xcmsSet(files, method= \"matchedFilter\")"
   ]
  },
  {
   "cell_type": "code",
   "execution_count": 5,
   "metadata": {},
   "outputs": [
    {
     "data": {
      "text/plain": [
       "An \"xcmsSet\" object with 8 samples\n",
       "\n",
       "Time range: 161.9-1779.9 seconds (2.7-29.7 minutes)\n",
       "Mass range: 102.0534-991.1106 m/z\n",
       "Peaks: 12435 (about 1554 per sample)\n",
       "Peak Groups: 0 \n",
       "Sample classes: sample \n",
       "\n",
       "Feature detection:\n",
       " o Peak picking performed on MS1.\n",
       "Profile settings: method = bin\n",
       "                  step = 0.1\n",
       "\n",
       "Memory usage: 1.35 MB"
      ]
     },
     "metadata": {},
     "output_type": "display_data"
    },
    {
     "name": "stdout",
     "output_type": "stream",
     "text": [
      "[1] \"__________________________________________________________________\"\n"
     ]
    }
   ],
   "source": [
    "# XCMSset objects characteristics\n",
    "xset\n",
    "print(\"__________________________________________________________________\")"
   ]
  },
  {
   "cell_type": "code",
   "execution_count": 6,
   "metadata": {},
   "outputs": [
    {
     "data": {
      "image/png": "[encoded data removed]",
      "text/plain": [
       "plot without title"
      ]
     },
     "metadata": {
      "image/png": {
       "height": 420,
       "width": 420
      }
     },
     "output_type": "display_data"
    }
   ],
   "source": [
    "#Calculation and plot of root mean squared distance (RMSD) between RT before and after correction\n",
    "# Plot of XCMSset 1\n",
    "rmsd = sapply(1:length(xset@rt$corrected),function(x) {sqrt(sum((xset@rt$raw[[x]]-xset@rt$corrected[[x]])**2))})\n",
    "plot(rmsd)"
   ]
  },
  {
   "cell_type": "markdown",
   "metadata": {},
   "source": [
    "## Peak grouping"
   ]
  },
  {
   "cell_type": "code",
   "execution_count": 7,
   "metadata": {},
   "outputs": [
    {
     "name": "stderr",
     "output_type": "stream",
     "text": [
      "Processing 7114 mz slices ... \n",
      "OK\n",
      "\n"
     ]
    }
   ],
   "source": [
    "#Grouping peaks from different samples\n",
    "xsetgroup = group(xset)"
   ]
  },
  {
   "cell_type": "markdown",
   "metadata": {},
   "source": [
    "## Peak alignment"
   ]
  },
  {
   "cell_type": "code",
   "execution_count": 8,
   "metadata": {},
   "outputs": [
    {
     "name": "stderr",
     "output_type": "stream",
     "text": [
      "Performing retention time correction using 742 peak groups.\n",
      "\n"
     ]
    },
    {
     "data": {
      "image/png": "[encoded data removed]",
      "text/plain": [
       "Plot with title \"\""
      ]
     },
     "metadata": {
      "image/png": {
       "height": 420,
       "width": 420
      }
     },
     "output_type": "display_data"
    }
   ],
   "source": [
    "#Retention time correction with symmetric method with peak grouping and result visualisation\n",
    "xsg = retcor(xsetgroup,family = \"symmetric\", smooth = c(\"loess\",\"linear\"),plottype = \"mdevden\")"
   ]
  },
  {
   "cell_type": "code",
   "execution_count": 9,
   "metadata": {},
   "outputs": [
    {
     "name": "stdout",
     "output_type": "stream",
     "text": [
      "center sample:  Person07_blood_elder_POS \n",
      "Processing: Person01_blood_youth_POS  "
     ]
    },
    {
     "name": "stderr",
     "output_type": "stream",
     "text": [
      "Create profile matrix with method 'bin' and step 0.1 ... \n",
      "OK\n",
      "\n",
      "Create profile matrix with method 'bin' and step 0.1 ... \n",
      "OK\n",
      "\n"
     ]
    },
    {
     "name": "stdout",
     "output_type": "stream",
     "text": [
      "Person02_blood_youth_POS  "
     ]
    },
    {
     "name": "stderr",
     "output_type": "stream",
     "text": [
      "Create profile matrix with method 'bin' and step 0.1 ... \n",
      "OK\n",
      "\n"
     ]
    },
    {
     "name": "stdout",
     "output_type": "stream",
     "text": [
      "Person03_blood_youth_POS  "
     ]
    },
    {
     "name": "stderr",
     "output_type": "stream",
     "text": [
      "Create profile matrix with method 'bin' and step 0.1 ... \n",
      "OK\n",
      "\n"
     ]
    },
    {
     "name": "stdout",
     "output_type": "stream",
     "text": [
      "Person04_blood_youth_POS  "
     ]
    },
    {
     "name": "stderr",
     "output_type": "stream",
     "text": [
      "Create profile matrix with method 'bin' and step 0.1 ... \n",
      "OK\n",
      "\n"
     ]
    },
    {
     "name": "stdout",
     "output_type": "stream",
     "text": [
      "Person05_blood_elder_POS  "
     ]
    },
    {
     "name": "stderr",
     "output_type": "stream",
     "text": [
      "Create profile matrix with method 'bin' and step 0.1 ... \n",
      "OK\n",
      "\n"
     ]
    },
    {
     "name": "stdout",
     "output_type": "stream",
     "text": [
      "Person06_blood_elder_POS  "
     ]
    },
    {
     "name": "stderr",
     "output_type": "stream",
     "text": [
      "Create profile matrix with method 'bin' and step 0.1 ... \n",
      "OK\n",
      "\n"
     ]
    },
    {
     "name": "stdout",
     "output_type": "stream",
     "text": [
      "Person08_blood_elder_POS  "
     ]
    },
    {
     "name": "stderr",
     "output_type": "stream",
     "text": [
      "Create profile matrix with method 'bin' and step 0.1 ... \n",
      "OK\n",
      "\n"
     ]
    },
    {
     "name": "stdout",
     "output_type": "stream",
     "text": [
      "\n"
     ]
    }
   ],
   "source": [
    "#Retention time correction with Obiwarp and visualize the result\n",
    "xsg_retcor = retcor(xset, method=\"obiwarp\", profStep=0.1, distFunc= \"cov\", plottype=c(\"none\",\"deviation\"))"
   ]
  },
  {
   "cell_type": "code",
   "execution_count": 10,
   "metadata": {},
   "outputs": [
    {
     "data": {
      "image/png": "[encoded data removed]",
      "text/plain": [
       "plot without title"
      ]
     },
     "metadata": {
      "image/png": {
       "height": 420,
       "width": 420
      }
     },
     "output_type": "display_data"
    }
   ],
   "source": [
    "# Root mean square deviation for RT corrected data and visualisation\n",
    "rmsd = sapply(1:length(xsg_retcor@rt$corrected),function(x) {sqrt(sum((xsg_retcor@rt$raw[[x]]-xsg_retcor@rt$corrected[[x]])**2))})\n",
    "plot(rmsd)\n"
   ]
  },
  {
   "cell_type": "code",
   "execution_count": 11,
   "metadata": {},
   "outputs": [
    {
     "name": "stderr",
     "output_type": "stream",
     "text": [
      "Processing 7114 mz slices ... \n",
      "OK\n",
      "\n"
     ]
    }
   ],
   "source": [
    "# Grouping peaks after RT correction with ObiWarp\n",
    "xsg_retcor_group = group(xsg_retcor,bw=10)"
   ]
  },
  {
   "cell_type": "markdown",
   "metadata": {},
   "source": [
    "## Filling missing features"
   ]
  },
  {
   "cell_type": "code",
   "execution_count": 12,
   "metadata": {},
   "outputs": [
    {
     "name": "stderr",
     "output_type": "stream",
     "text": [
      "Use of argument 'nSlaves' is deprecated, please use 'BPPARAM' instead.\n",
      "\n",
      "Loading required package: xcms\n",
      "Loading required package: Biobase\n",
      "Loading required package: BiocGenerics\n",
      "Loading required package: parallel\n",
      "\n",
      "Attaching package: 'BiocGenerics'\n",
      "\n",
      "The following objects are masked from 'package:parallel':\n",
      "\n",
      "    clusterApply, clusterApplyLB, clusterCall, clusterEvalQ,\n",
      "    clusterExport, clusterMap, parApply, parCapply, parLapply,\n",
      "    parLapplyLB, parRapply, parSapply, parSapplyLB\n",
      "\n",
      "The following objects are masked from 'package:stats':\n",
      "\n",
      "    IQR, mad, sd, var, xtabs\n",
      "\n",
      "The following objects are masked from 'package:base':\n",
      "\n",
      "    anyDuplicated, append, as.data.frame, basename, cbind, colnames,\n",
      "    dirname, do.call, duplicated, eval, evalq, Filter, Find, get, grep,\n",
      "    grepl, intersect, is.unsorted, lapply, Map, mapply, match, mget,\n",
      "    order, paste, pmax, pmax.int, pmin, pmin.int, Position, rank,\n",
      "    rbind, Reduce, rownames, sapply, setdiff, sort, table, tapply,\n",
      "    union, unique, unsplit, which, which.max, which.min\n",
      "\n",
      "Welcome to Bioconductor\n",
      "\n",
      "    Vignettes contain introductory material; view with\n",
      "    'browseVignettes()'. To cite Bioconductor, see\n",
      "    'citation(\"Biobase\")', and for packages 'citation(\"pkgname\")'.\n",
      "\n",
      "Loading required package: BiocParallel\n",
      "Loading required package: MSnbase\n",
      "Loading required package: mzR\n",
      "Loading required package: Rcpp\n",
      "Loading required package: S4Vectors\n",
      "Loading required package: stats4\n",
      "\n",
      "Attaching package: 'S4Vectors'\n",
      "\n",
      "The following object is masked from 'package:base':\n",
      "\n",
      "    expand.grid\n",
      "\n",
      "Loading required package: ProtGenerics\n",
      "\n",
      "Attaching package: 'ProtGenerics'\n",
      "\n",
      "The following object is masked from 'package:stats':\n",
      "\n",
      "    smooth\n",
      "\n",
      "\n",
      "This is MSnbase version 2.12.0 \n",
      "  Visit https://lgatto.github.io/MSnbase/ to get started.\n",
      "\n",
      "\n",
      "Attaching package: 'MSnbase'\n",
      "\n",
      "The following object is masked from 'package:base':\n",
      "\n",
      "    trimws\n",
      "\n",
      "\n",
      "This is xcms version 3.8.2 \n",
      "\n",
      "\n",
      "Attaching package: 'xcms'\n",
      "\n",
      "The following object is masked from 'package:stats':\n",
      "\n",
      "    sigma\n",
      "\n",
      "A:/IARC/Data/MTBLS265/sample/Person05_blood_elder_POS.mzML \n",
      "method:  bin \n",
      "step:  0.1 \n",
      "A:/IARC/Data/MTBLS265/sample/Person06_blood_elder_POS.mzML \n",
      "method:  bin \n",
      "step:  0.1 \n",
      "A:/IARC/Data/MTBLS265/sample/Person07_blood_elder_POS.mzML \n",
      "method:  bin \n",
      "step:  0.1 \n",
      "A:/IARC/Data/MTBLS265/sample/Person08_blood_elder_POS.mzML \n",
      "method:  bin \n",
      "step:  0.1 \n",
      "\n",
      "Loading required package: xcms\n",
      "Loading required package: Biobase\n",
      "Loading required package: BiocGenerics\n",
      "Loading required package: parallel\n",
      "\n",
      "Attaching package: 'BiocGenerics'\n",
      "\n",
      "The following objects are masked from 'package:parallel':\n",
      "\n",
      "    clusterApply, clusterApplyLB, clusterCall, clusterEvalQ,\n",
      "    clusterExport, clusterMap, parApply, parCapply, parLapply,\n",
      "    parLapplyLB, parRapply, parSapply, parSapplyLB\n",
      "\n",
      "The following objects are masked from 'package:stats':\n",
      "\n",
      "    IQR, mad, sd, var, xtabs\n",
      "\n",
      "The following objects are masked from 'package:base':\n",
      "\n",
      "    anyDuplicated, append, as.data.frame, basename, cbind, colnames,\n",
      "    dirname, do.call, duplicated, eval, evalq, Filter, Find, get, grep,\n",
      "    grepl, intersect, is.unsorted, lapply, Map, mapply, match, mget,\n",
      "    order, paste, pmax, pmax.int, pmin, pmin.int, Position, rank,\n",
      "    rbind, Reduce, rownames, sapply, setdiff, sort, table, tapply,\n",
      "    union, unique, unsplit, which, which.max, which.min\n",
      "\n",
      "Welcome to Bioconductor\n",
      "\n",
      "    Vignettes contain introductory material; view with\n",
      "    'browseVignettes()'. To cite Bioconductor, see\n",
      "    'citation(\"Biobase\")', and for packages 'citation(\"pkgname\")'.\n",
      "\n",
      "Loading required package: BiocParallel\n",
      "Loading required package: MSnbase\n",
      "Loading required package: mzR\n",
      "Loading required package: Rcpp\n",
      "Loading required package: S4Vectors\n",
      "Loading required package: stats4\n",
      "\n",
      "Attaching package: 'S4Vectors'\n",
      "\n",
      "The following object is masked from 'package:base':\n",
      "\n",
      "    expand.grid\n",
      "\n",
      "Loading required package: ProtGenerics\n",
      "\n",
      "Attaching package: 'ProtGenerics'\n",
      "\n",
      "The following object is masked from 'package:stats':\n",
      "\n",
      "    smooth\n",
      "\n",
      "\n",
      "This is MSnbase version 2.12.0 \n",
      "  Visit https://lgatto.github.io/MSnbase/ to get started.\n",
      "\n",
      "\n",
      "Attaching package: 'MSnbase'\n",
      "\n",
      "The following object is masked from 'package:base':\n",
      "\n",
      "    trimws\n",
      "\n",
      "\n",
      "This is xcms version 3.8.2 \n",
      "\n",
      "\n",
      "Attaching package: 'xcms'\n",
      "\n",
      "The following object is masked from 'package:stats':\n",
      "\n",
      "    sigma\n",
      "\n",
      "A:/IARC/Data/MTBLS265/sample/Person01_blood_youth_POS.mzML \n",
      "method:  bin \n",
      "step:  0.1 \n",
      "A:/IARC/Data/MTBLS265/sample/Person02_blood_youth_POS.mzML \n",
      "method:  bin \n",
      "step:  0.1 \n",
      "A:/IARC/Data/MTBLS265/sample/Person03_blood_youth_POS.mzML \n",
      "method:  bin \n",
      "step:  0.1 \n",
      "A:/IARC/Data/MTBLS265/sample/Person04_blood_youth_POS.mzML \n",
      "method:  bin \n",
      "step:  0.1 \n",
      "\n"
     ]
    }
   ],
   "source": [
    "# Filling back missing peaks in the dataset\n",
    "xsg_retcor_group_fill = fillPeaks(xsg_retcor_group, nSlaves=2,expand.mz=1,expand.rt=1)"
   ]
  },
  {
   "cell_type": "markdown",
   "metadata": {},
   "source": [
    "## Output"
   ]
  },
  {
   "cell_type": "code",
   "execution_count": 13,
   "metadata": {},
   "outputs": [],
   "source": [
    "# Extract peak table from the processed data\n",
    "peaks = peakTable(xsg_retcor_group_fill)"
   ]
  },
  {
   "cell_type": "code",
   "execution_count": 14,
   "metadata": {},
   "outputs": [
    {
     "data": {
      "image/png": "[encoded data removed]",
      "text/plain": [
       "Plot with title \"Histogram of m/z deviation between matched peaks\""
      ]
     },
     "metadata": {
      "image/png": {
       "height": 420,
       "width": 420
      }
     },
     "output_type": "display_data"
    }
   ],
   "source": [
    "# Histogram visualisation of the m/z deviation between the matched peaks\n",
    "hist(peaks$mzmax-peaks$mzmin,100, xlab = \"Da\",\n",
    "     main=\"Histogram of m/z deviation between matched peaks\")"
   ]
  },
  {
   "cell_type": "markdown",
   "metadata": {},
   "source": [
    "## Peak visualisation & metabolites annotation"
   ]
  },
  {
   "cell_type": "code",
   "execution_count": 15,
   "metadata": {},
   "outputs": [
    {
     "name": "stderr",
     "output_type": "stream",
     "text": [
      "Create profile matrix with method 'bin' and step 1 ... \n",
      "OK\n",
      "\n"
     ]
    }
   ],
   "source": [
    "# Build a XCMSRaw object\n",
    "    # Reads raw mzMl files into a xcmsRaw object\n",
    "    # Transfor data into profile mode for data plotting and exploration\n",
    "xraw = xcmsRaw(xset@filepaths[1])"
   ]
  },
  {
   "cell_type": "code",
   "execution_count": 16,
   "metadata": {},
   "outputs": [
    {
     "data": {
      "image/png": "[encoded data removed]",
      "text/plain": [
       "Plot with title \"Extracted Ion Chromatogram  m/z  50 - 2000\""
      ]
     },
     "metadata": {
      "image/png": {
       "height": 420,
       "width": 420
      }
     },
     "output_type": "display_data"
    }
   ],
   "source": [
    "# Visualisation of the Extracted Ion Chromatogram for the different corrections methods used to build the xset \n",
    "plotEIC(xraw,mzrange=c(50,2000),rtrange=c(100,12*60), col=\"blue\")"
   ]
  },
  {
   "cell_type": "code",
   "execution_count": 17,
   "metadata": {},
   "outputs": [
    {
     "data": {
      "image/png": "[encoded data removed]",
      "text/plain": [
       "Plot with title \"Extracted Ion Chromatogram  m/z  312.28 - 312.3\""
      ]
     },
     "metadata": {
      "image/png": {
       "height": 420,
       "width": 420
      }
     },
     "output_type": "display_data"
    }
   ],
   "source": [
    "# Get EIC for the metabolite dimethyl-guanosine\n",
    "# Mass for dimethyl-guanosine 311.29\n",
    "# Find the extracted ion chromatogram (EIC) for the adduct M+H (add the mass of H to the mass)\n",
    "\n",
    "plotEIC(xraw,mzrange=c(312.28,312.30),#mzrange is the parameter range within which the mass detected by the MS is (mass after ionisation)\n",
    "        rtrange=c(100,200), col=\"blue\") #rtrange is the parameter range for the time range in which the metabolite is eluted on the LC column "
   ]
  },
  {
   "cell_type": "code",
   "execution_count": 18,
   "metadata": {},
   "outputs": [
    {
     "name": "stderr",
     "output_type": "stream",
     "text": [
      "Create profile matrix with method 'bin' and step 1 ... \n",
      "OK\n",
      "\n",
      "Create profile matrix with method 'bin' and step 1 ... \n",
      "OK\n",
      "\n"
     ]
    }
   ],
   "source": [
    "library(ggplot2)\n",
    "\n",
    "# Save data for waterfall plot Sample 1 is for young and sample 2 for old\n",
    "xraw_young = xcmsRaw(xset@filepaths[1])\n",
    "xraw_old = xcmsRaw(xset@filepaths[5])\n",
    "\n",
    "ova<- getEIC(xraw_young, mzrange=cbind(312.28,312.30))\n",
    "ova<- as.matrix(ova@eic$xcmsRaw[[1]]) ## Change the file to a matrix\n",
    "\n",
    "ovb<- getEIC(xraw_old, mzrange=cbind(312.28,312.30))\n",
    "ovb<- as.matrix(ovb@eic$xcmsRaw[[1]])\n",
    "\n",
    "\n",
    "x1<- ova[,1]\n",
    "z1<- ova[,2]\n",
    "y1<- 2\n",
    "\n",
    "x2<- ovb[,1]\n",
    "z2<- ovb[,2]\n",
    "y2<- 1\n",
    "\n",
    "\n",
    "xyz1<- data.frame(x1,y1, z1)\n",
    "xyz2<- data.frame(x2,y2, z2)\n",
    "\n"
   ]
  },
  {
   "cell_type": "code",
   "execution_count": 19,
   "metadata": {},
   "outputs": [
    {
     "data": {
      "image/png": "[encoded data removed]",
      "text/plain": [
       "plot without title"
      ]
     },
     "metadata": {
      "image/png": {
       "height": 420,
       "width": 420
      }
     },
     "output_type": "display_data"
    }
   ],
   "source": [
    "## 3D plot \n",
    "\n",
    "library(scatterplot3d)\n",
    "\n",
    "with(xyz2, {\n",
    "    scatterplot3d(x2, y2,  z2,  type= \"l\", color = \"red\",xlim= c(100,400), ylim= c(0,4),\n",
    "                  xlab=\"\", ylab= \"\", zlab= \"\", grid=F, angle= 45, box=F, cex.axis = 0.9, font.lab = 2, lwd=0.5)\n",
    "  })\n",
    "  \n",
    "  par(new=T )\n",
    "  \n",
    "  with(xyz1, {\n",
    "    scatterplot3d(x1, y1, z1, type= \"l\", color = \"blue\", xlim= c(100,400),ylim= c(0,4),\n",
    "                  xlab=\"RT (s)\", ylab= \"Sample number\", zlab= \"Intensity\", grid = F, angle= 45, box= F, cex.axis = 0.9, font.lab = 2, lwd=0.5)\n",
    "  })"
   ]
  },
  {
   "cell_type": "markdown",
   "metadata": {},
   "source": [
    "#############################################################################################################################################################################"
   ]
  },
  {
   "cell_type": "markdown",
   "metadata": {},
   "source": [
    "## Exercise 1: \n",
    "#### Find the EIC peak for the citrulline metabolite?\n",
    "**What is the retention time range of this metabolite?**\n",
    "<br>\n",
    "\n",
    "*Tips:* \n",
    "* Look for the M+H adduct \n",
    "* Use exact mass\n",
    "* Work with a 5ppm resolution (0.005 m/z)"
   ]
  },
  {
   "cell_type": "markdown",
   "metadata": {},
   "source": [
    "## Exercice 2\n",
    "This mass corresponds to the M+H adducts (<10ppm accuracy) of a metabolite found in these samples: ***132.076***\n",
    "* This metabolite has been found to be linked to metabolic reactions in the human metabolic network simulating kidney failure\n",
    "* Furthermore this metabolite is identified as an amino-acids. \n",
    "\n",
    "**Using the information above and the <a href=\"https://hmdb.ca/spectra/ms/search\">HMDB database</a> find which metabolite is it and plot its EIC**"
   ]
  },
  {
   "cell_type": "markdown",
   "metadata": {},
   "source": [
    "## Exercice 3\n",
    "**1)** Can you find the M+H, M+Na, and M+NH4 adducts (use a 0.1m/z accuracy for your mass range) of ***pantothenate*** ? <br>\n",
    "    What do you notice with the different adducts peaks? <br>\n",
    "**2)** Now do the same thing but with a 0.001 m/z accuracy? <br>\n",
    "    Can you explain the difference of EIC between the previous peaks in 1) ? <br>\n",
    "**3)** What is the adduct with the highest intensity?<br>\n",
    "\n",
    "Tips: \n",
    "Don't hesitate to zoom in the peaks using RT range (this metabolite elutes around 400 seconds) + it's possible that a peak does not exist as sometimes certain adducts do not form or are not detected if in very low quantities"
   ]
  },
  {
   "cell_type": "code",
   "execution_count": null,
   "metadata": {},
   "outputs": [],
   "source": []
  },
  {
   "cell_type": "code",
   "execution_count": 34,
   "metadata": {},
   "outputs": [
    {
     "data": {
      "text/plain": [
       "R version 3.6.3 (2020-02-29)\n",
       "Platform: x86_64-w64-mingw32/x64 (64-bit)\n",
       "Running under: Windows 10 x64 (build 18362)\n",
       "\n",
       "Matrix products: default\n",
       "\n",
       "locale:\n",
       "[1] LC_COLLATE=English_Europe.1252  LC_CTYPE=English_Europe.1252   \n",
       "[3] LC_MONETARY=English_Europe.1252 LC_NUMERIC=C                   \n",
       "[5] LC_TIME=English_Europe.1252    \n",
       "\n",
       "attached base packages:\n",
       "[1] stats4    parallel  stats     graphics  grDevices utils     datasets \n",
       "[8] methods   base     \n",
       "\n",
       "other attached packages:\n",
       " [1] pheatmap_1.0.12      magrittr_1.5         pander_0.6.3        \n",
       " [4] RColorBrewer_1.1-2   multtest_2.42.0      msdata_0.26.0       \n",
       " [7] xcms_3.8.2           MSnbase_2.12.0       ProtGenerics_1.18.0 \n",
       "[10] S4Vectors_0.24.4     mzR_2.20.0           Rcpp_1.0.5          \n",
       "[13] BiocParallel_1.20.1  Biobase_2.46.0       BiocGenerics_0.32.0 \n",
       "[16] scatterplot3d_0.3-41 ggplot2_3.3.2       \n",
       "\n",
       "loaded via a namespace (and not attached):\n",
       " [1] vsn_3.54.0             jsonlite_1.7.0         splines_3.6.3         \n",
       " [4] foreach_1.5.0          BiocManager_1.30.10    affy_1.64.0           \n",
       " [7] robustbase_0.93-6      impute_1.60.0          pillar_1.4.6          \n",
       "[10] lattice_0.20-38        glue_1.4.1             limma_3.42.2          \n",
       "[13] uuid_0.1-4             digest_0.6.25          colorspace_1.4-1      \n",
       "[16] htmltools_0.5.0        preprocessCore_1.48.0  Matrix_1.2-18         \n",
       "[19] plyr_1.8.6             MALDIquant_1.19.3      XML_3.99-0.3          \n",
       "[22] pkgconfig_2.0.3        zlibbioc_1.32.0        purrr_0.3.4           \n",
       "[25] scales_1.1.1           snow_0.4-3             RANN_2.6.1            \n",
       "[28] affyio_1.56.0          tibble_3.0.3           generics_0.0.2        \n",
       "[31] IRanges_2.20.2         ellipsis_0.3.1         withr_2.2.0           \n",
       "[34] repr_1.1.0             MassSpecWavelet_1.52.0 survival_3.1-8        \n",
       "[37] crayon_1.3.4           evaluate_0.14          ncdf4_1.17            \n",
       "[40] doParallel_1.0.15      MASS_7.3-51.5          tools_3.6.3           \n",
       "[43] lifecycle_0.2.0        munsell_0.5.0          pcaMethods_1.78.0     \n",
       "[46] compiler_3.6.3         mzID_1.24.0            rlang_0.4.7           \n",
       "[49] grid_3.6.3             pbdZMQ_0.3-3           iterators_1.0.12      \n",
       "[52] IRkernel_1.1.1         base64enc_0.1-3        gtable_0.3.0          \n",
       "[55] codetools_0.2-16       R6_2.4.1               dplyr_1.0.2           \n",
       "[58] IRdisplay_0.7.0        vctrs_0.3.2            DEoptimR_1.0-8        \n",
       "[61] tidyselect_1.1.0      "
      ]
     },
     "metadata": {},
     "output_type": "display_data"
    }
   ],
   "source": [
    "sessionInfo()"
   ]
  },
  {
   "cell_type": "code",
   "execution_count": null,
   "metadata": {},
   "outputs": [],
   "source": []
  }
 ],
 "metadata": {
  "kernelspec": {
   "display_name": "R",
   "language": "R",
   "name": "ir"
  },
  "language_info": {
   "codemirror_mode": "r",
   "file_extension": ".r",
   "mimetype": "text/x-r-source",
   "name": "R",
   "pygments_lexer": "r",
   "version": "3.6.3"
  },
  "toc": {
   "base_numbering": 1,
   "nav_menu": {},
   "number_sections": false,
   "sideBar": false,
   "skip_h1_title": false,
   "title_cell": "Table of Contents",
   "title_sidebar": "Contents",
   "toc_cell": false,
   "toc_position": {},
   "toc_section_display": false,
   "toc_window_display": false
  }
 },
 "nbformat": 4,
 "nbformat_minor": 2
}
